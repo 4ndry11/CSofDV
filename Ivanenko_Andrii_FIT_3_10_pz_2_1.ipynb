{
 "cells": [
  {
   "cell_type": "code",
   "execution_count": 67,
   "id": "dfa67f58",
   "metadata": {},
   "outputs": [],
   "source": [
    "import matplotlib.pyplot as plt\n",
    "import seaborn as sns\n",
    "import pandas as pd\n",
    "\n",
    "#задамо один стиль для графіків \n",
    "\n",
    "sns.set(style = \"whitegrid\",\n",
    "    rc    = {'figure.figsize':(10,6)},\n",
    "    palette = \"pastel\"\n",
    ")"
   ]
  },
  {
   "cell_type": "code",
   "execution_count": 68,
   "id": "589748be",
   "metadata": {},
   "outputs": [],
   "source": [
    "# Завдання 1: Прочитайте CSV файл\n",
    "\n",
    "file_path = r\"Global YouTube Statistics.csv\"\n",
    "data = pd.read_csv(file_path, encoding='latin-1')"
   ]
  },
  {
   "cell_type": "code",
   "execution_count": 69,
   "id": "8f1baa49",
   "metadata": {},
   "outputs": [
    {
     "data": {
      "text/html": [
       "<div>\n",
       "<style scoped>\n",
       "    .dataframe tbody tr th:only-of-type {\n",
       "        vertical-align: middle;\n",
       "    }\n",
       "\n",
       "    .dataframe tbody tr th {\n",
       "        vertical-align: top;\n",
       "    }\n",
       "\n",
       "    .dataframe thead th {\n",
       "        text-align: right;\n",
       "    }\n",
       "</style>\n",
       "<table border=\"1\" class=\"dataframe\">\n",
       "  <thead>\n",
       "    <tr style=\"text-align: right;\">\n",
       "      <th></th>\n",
       "      <th>rank</th>\n",
       "      <th>Youtuber</th>\n",
       "      <th>subscribers</th>\n",
       "      <th>video views</th>\n",
       "      <th>category</th>\n",
       "      <th>Title</th>\n",
       "      <th>uploads</th>\n",
       "      <th>Country</th>\n",
       "      <th>Abbreviation</th>\n",
       "      <th>channel_type</th>\n",
       "      <th>...</th>\n",
       "      <th>subscribers_for_last_30_days</th>\n",
       "      <th>created_year</th>\n",
       "      <th>created_month</th>\n",
       "      <th>created_date</th>\n",
       "      <th>Gross tertiary education enrollment (%)</th>\n",
       "      <th>Population</th>\n",
       "      <th>Unemployment rate</th>\n",
       "      <th>Urban_population</th>\n",
       "      <th>Latitude</th>\n",
       "      <th>Longitude</th>\n",
       "    </tr>\n",
       "  </thead>\n",
       "  <tbody>\n",
       "    <tr>\n",
       "      <th>0</th>\n",
       "      <td>1</td>\n",
       "      <td>T-Series</td>\n",
       "      <td>245000000</td>\n",
       "      <td>2.280000e+11</td>\n",
       "      <td>Music</td>\n",
       "      <td>T-Series</td>\n",
       "      <td>20082</td>\n",
       "      <td>India</td>\n",
       "      <td>IN</td>\n",
       "      <td>Music</td>\n",
       "      <td>...</td>\n",
       "      <td>2000000.0</td>\n",
       "      <td>2006.0</td>\n",
       "      <td>Mar</td>\n",
       "      <td>13.0</td>\n",
       "      <td>28.1</td>\n",
       "      <td>1.366418e+09</td>\n",
       "      <td>5.36</td>\n",
       "      <td>471031528.0</td>\n",
       "      <td>20.593684</td>\n",
       "      <td>78.962880</td>\n",
       "    </tr>\n",
       "    <tr>\n",
       "      <th>1</th>\n",
       "      <td>2</td>\n",
       "      <td>YouTube Movies</td>\n",
       "      <td>170000000</td>\n",
       "      <td>0.000000e+00</td>\n",
       "      <td>Film &amp; Animation</td>\n",
       "      <td>youtubemovies</td>\n",
       "      <td>1</td>\n",
       "      <td>United States</td>\n",
       "      <td>US</td>\n",
       "      <td>Games</td>\n",
       "      <td>...</td>\n",
       "      <td>NaN</td>\n",
       "      <td>2006.0</td>\n",
       "      <td>Mar</td>\n",
       "      <td>5.0</td>\n",
       "      <td>88.2</td>\n",
       "      <td>3.282395e+08</td>\n",
       "      <td>14.70</td>\n",
       "      <td>270663028.0</td>\n",
       "      <td>37.090240</td>\n",
       "      <td>-95.712891</td>\n",
       "    </tr>\n",
       "    <tr>\n",
       "      <th>2</th>\n",
       "      <td>3</td>\n",
       "      <td>MrBeast</td>\n",
       "      <td>166000000</td>\n",
       "      <td>2.836884e+10</td>\n",
       "      <td>Entertainment</td>\n",
       "      <td>MrBeast</td>\n",
       "      <td>741</td>\n",
       "      <td>United States</td>\n",
       "      <td>US</td>\n",
       "      <td>Entertainment</td>\n",
       "      <td>...</td>\n",
       "      <td>8000000.0</td>\n",
       "      <td>2012.0</td>\n",
       "      <td>Feb</td>\n",
       "      <td>20.0</td>\n",
       "      <td>88.2</td>\n",
       "      <td>3.282395e+08</td>\n",
       "      <td>14.70</td>\n",
       "      <td>270663028.0</td>\n",
       "      <td>37.090240</td>\n",
       "      <td>-95.712891</td>\n",
       "    </tr>\n",
       "    <tr>\n",
       "      <th>3</th>\n",
       "      <td>4</td>\n",
       "      <td>Cocomelon - Nursery Rhymes</td>\n",
       "      <td>162000000</td>\n",
       "      <td>1.640000e+11</td>\n",
       "      <td>Education</td>\n",
       "      <td>Cocomelon - Nursery Rhymes</td>\n",
       "      <td>966</td>\n",
       "      <td>United States</td>\n",
       "      <td>US</td>\n",
       "      <td>Education</td>\n",
       "      <td>...</td>\n",
       "      <td>1000000.0</td>\n",
       "      <td>2006.0</td>\n",
       "      <td>Sep</td>\n",
       "      <td>1.0</td>\n",
       "      <td>88.2</td>\n",
       "      <td>3.282395e+08</td>\n",
       "      <td>14.70</td>\n",
       "      <td>270663028.0</td>\n",
       "      <td>37.090240</td>\n",
       "      <td>-95.712891</td>\n",
       "    </tr>\n",
       "    <tr>\n",
       "      <th>4</th>\n",
       "      <td>5</td>\n",
       "      <td>SET India</td>\n",
       "      <td>159000000</td>\n",
       "      <td>1.480000e+11</td>\n",
       "      <td>Shows</td>\n",
       "      <td>SET India</td>\n",
       "      <td>116536</td>\n",
       "      <td>India</td>\n",
       "      <td>IN</td>\n",
       "      <td>Entertainment</td>\n",
       "      <td>...</td>\n",
       "      <td>1000000.0</td>\n",
       "      <td>2006.0</td>\n",
       "      <td>Sep</td>\n",
       "      <td>20.0</td>\n",
       "      <td>28.1</td>\n",
       "      <td>1.366418e+09</td>\n",
       "      <td>5.36</td>\n",
       "      <td>471031528.0</td>\n",
       "      <td>20.593684</td>\n",
       "      <td>78.962880</td>\n",
       "    </tr>\n",
       "  </tbody>\n",
       "</table>\n",
       "<p>5 rows × 28 columns</p>\n",
       "</div>"
      ],
      "text/plain": [
       "   rank                    Youtuber  subscribers   video views  \\\n",
       "0     1                    T-Series    245000000  2.280000e+11   \n",
       "1     2              YouTube Movies    170000000  0.000000e+00   \n",
       "2     3                     MrBeast    166000000  2.836884e+10   \n",
       "3     4  Cocomelon - Nursery Rhymes    162000000  1.640000e+11   \n",
       "4     5                   SET India    159000000  1.480000e+11   \n",
       "\n",
       "           category                       Title  uploads        Country  \\\n",
       "0             Music                    T-Series    20082          India   \n",
       "1  Film & Animation               youtubemovies        1  United States   \n",
       "2     Entertainment                     MrBeast      741  United States   \n",
       "3         Education  Cocomelon - Nursery Rhymes      966  United States   \n",
       "4             Shows                   SET India   116536          India   \n",
       "\n",
       "  Abbreviation   channel_type  ...  subscribers_for_last_30_days  \\\n",
       "0           IN          Music  ...                     2000000.0   \n",
       "1           US          Games  ...                           NaN   \n",
       "2           US  Entertainment  ...                     8000000.0   \n",
       "3           US      Education  ...                     1000000.0   \n",
       "4           IN  Entertainment  ...                     1000000.0   \n",
       "\n",
       "   created_year  created_month  created_date  \\\n",
       "0        2006.0            Mar          13.0   \n",
       "1        2006.0            Mar           5.0   \n",
       "2        2012.0            Feb          20.0   \n",
       "3        2006.0            Sep           1.0   \n",
       "4        2006.0            Sep          20.0   \n",
       "\n",
       "   Gross tertiary education enrollment (%)    Population  Unemployment rate  \\\n",
       "0                                     28.1  1.366418e+09               5.36   \n",
       "1                                     88.2  3.282395e+08              14.70   \n",
       "2                                     88.2  3.282395e+08              14.70   \n",
       "3                                     88.2  3.282395e+08              14.70   \n",
       "4                                     28.1  1.366418e+09               5.36   \n",
       "\n",
       "   Urban_population   Latitude  Longitude  \n",
       "0       471031528.0  20.593684  78.962880  \n",
       "1       270663028.0  37.090240 -95.712891  \n",
       "2       270663028.0  37.090240 -95.712891  \n",
       "3       270663028.0  37.090240 -95.712891  \n",
       "4       471031528.0  20.593684  78.962880  \n",
       "\n",
       "[5 rows x 28 columns]"
      ]
     },
     "execution_count": 69,
     "metadata": {},
     "output_type": "execute_result"
    }
   ],
   "source": [
    "# Завдання 2: Виведіть перші п'ять рядків\n",
    "data.head()"
   ]
  },
  {
   "cell_type": "code",
   "execution_count": 71,
   "id": "dfda80f0",
   "metadata": {},
   "outputs": [
    {
     "data": {
      "text/plain": [
       "(995, 28)"
      ]
     },
     "execution_count": 71,
     "metadata": {},
     "output_type": "execute_result"
    }
   ],
   "source": [
    "# Завдання 3: Виведіть розміри датасету\n",
    "data.shape"
   ]
  },
  {
   "cell_type": "code",
   "execution_count": 72,
   "id": "2d1f54d4",
   "metadata": {},
   "outputs": [
    {
     "name": "stdout",
     "output_type": "stream",
     "text": [
      "<class 'pandas.core.frame.DataFrame'>\n",
      "RangeIndex: 995 entries, 0 to 994\n",
      "Data columns (total 28 columns):\n",
      " #   Column                                   Non-Null Count  Dtype  \n",
      "---  ------                                   --------------  -----  \n",
      " 0   rank                                     995 non-null    int64  \n",
      " 1   Youtuber                                 995 non-null    object \n",
      " 2   subscribers                              995 non-null    int64  \n",
      " 3   video views                              995 non-null    float64\n",
      " 4   category                                 949 non-null    object \n",
      " 5   Title                                    995 non-null    object \n",
      " 6   uploads                                  995 non-null    int64  \n",
      " 7   Country                                  873 non-null    object \n",
      " 8   Abbreviation                             873 non-null    object \n",
      " 9   channel_type                             965 non-null    object \n",
      " 10  video_views_rank                         994 non-null    float64\n",
      " 11  country_rank                             879 non-null    float64\n",
      " 12  channel_type_rank                        962 non-null    float64\n",
      " 13  video_views_for_the_last_30_days         939 non-null    float64\n",
      " 14  lowest_monthly_earnings                  995 non-null    float64\n",
      " 15  highest_monthly_earnings                 995 non-null    float64\n",
      " 16  lowest_yearly_earnings                   995 non-null    float64\n",
      " 17  highest_yearly_earnings                  995 non-null    float64\n",
      " 18  subscribers_for_last_30_days             658 non-null    float64\n",
      " 19  created_year                             990 non-null    float64\n",
      " 20  created_month                            990 non-null    object \n",
      " 21  created_date                             990 non-null    float64\n",
      " 22  Gross tertiary education enrollment (%)  872 non-null    float64\n",
      " 23  Population                               872 non-null    float64\n",
      " 24  Unemployment rate                        872 non-null    float64\n",
      " 25  Urban_population                         872 non-null    float64\n",
      " 26  Latitude                                 872 non-null    float64\n",
      " 27  Longitude                                872 non-null    float64\n",
      "dtypes: float64(18), int64(3), object(7)\n",
      "memory usage: 217.8+ KB\n"
     ]
    }
   ],
   "source": [
    "data.info()"
   ]
  },
  {
   "cell_type": "code",
   "execution_count": 73,
   "id": "e0076b5f",
   "metadata": {},
   "outputs": [],
   "source": [
    "#перейменуємо усі стовпці на стиль snake_case для зручності\n",
    "data.columns = data.columns.str.lower().str.replace(' ', '_')"
   ]
  },
  {
   "cell_type": "code",
   "execution_count": 74,
   "id": "a79a23d2",
   "metadata": {},
   "outputs": [
    {
     "name": "stdout",
     "output_type": "stream",
     "text": [
      "Кількість пропусків у кожному зі стовпців:\n",
      "rank                                         0\n",
      "youtuber                                     0\n",
      "subscribers                                  0\n",
      "video_views                                  0\n",
      "category                                    46\n",
      "title                                        0\n",
      "uploads                                      0\n",
      "country                                    122\n",
      "abbreviation                               122\n",
      "channel_type                                30\n",
      "video_views_rank                             1\n",
      "country_rank                               116\n",
      "channel_type_rank                           33\n",
      "video_views_for_the_last_30_days            56\n",
      "lowest_monthly_earnings                      0\n",
      "highest_monthly_earnings                     0\n",
      "lowest_yearly_earnings                       0\n",
      "highest_yearly_earnings                      0\n",
      "subscribers_for_last_30_days               337\n",
      "created_year                                 5\n",
      "created_month                                5\n",
      "created_date                                 5\n",
      "gross_tertiary_education_enrollment_(%)    123\n",
      "population                                 123\n",
      "unemployment_rate                          123\n",
      "urban_population                           123\n",
      "latitude                                   123\n",
      "longitude                                  123\n",
      "dtype: int64\n"
     ]
    }
   ],
   "source": [
    "# Завдання 4: Перевірте кількість пропусків у кожному зі стовпців\n",
    "print(\"Кількість пропусків у кожному зі стовпців:\")\n",
    "print(data.isna().sum())"
   ]
  },
  {
   "cell_type": "code",
   "execution_count": 75,
   "id": "644068f3",
   "metadata": {},
   "outputs": [
    {
     "name": "stderr",
     "output_type": "stream",
     "text": [
      "C:\\Users\\Андрей\\AppData\\Local\\Temp\\ipykernel_17360\\2426548164.py:2: FutureWarning: Dropping of nuisance columns in DataFrame reductions (with 'numeric_only=None') is deprecated; in a future version this will raise TypeError.  Select only valid columns before calling the reduction.\n",
      "  data.fillna(df.mean(), inplace=True)\n"
     ]
    },
    {
     "data": {
      "text/plain": [
       "rank                                         0\n",
       "youtuber                                     0\n",
       "subscribers                                  0\n",
       "video_views                                  0\n",
       "category                                    46\n",
       "title                                        0\n",
       "uploads                                      0\n",
       "country                                    122\n",
       "abbreviation                               122\n",
       "channel_type                                30\n",
       "video_views_rank                             0\n",
       "country_rank                                 0\n",
       "channel_type_rank                            0\n",
       "video_views_for_the_last_30_days             0\n",
       "lowest_monthly_earnings                      0\n",
       "highest_monthly_earnings                     0\n",
       "lowest_yearly_earnings                       0\n",
       "highest_yearly_earnings                      0\n",
       "subscribers_for_last_30_days                 0\n",
       "created_year                                 0\n",
       "created_month                                5\n",
       "created_date                                 0\n",
       "gross_tertiary_education_enrollment_(%)      0\n",
       "population                                   0\n",
       "unemployment_rate                            0\n",
       "urban_population                             0\n",
       "latitude                                     0\n",
       "longitude                                    0\n",
       "dtype: int64"
      ]
     },
     "execution_count": 75,
     "metadata": {},
     "output_type": "execute_result"
    }
   ],
   "source": [
    "# Завдання 5: Замініть комірки з пропущеними значеннями на середні за стовпцем\n",
    "data.fillna(df.mean(), inplace=True)\n",
    "data.isna().sum()"
   ]
  },
  {
   "cell_type": "markdown",
   "id": "005d8373",
   "metadata": {},
   "source": [
    "Бачимо що не замінились на середнє значення текстові колонки"
   ]
  },
  {
   "cell_type": "code",
   "execution_count": 76,
   "id": "e0e058d3",
   "metadata": {},
   "outputs": [],
   "source": [
    "# Замініть тип даних на float\n",
    "# Перетворюємо числові стовпці на тип float\n",
    "numeric_columns = data.select_dtypes(include=['number']).columns\n",
    "data[numeric_columns] = data[numeric_columns].astype(float)"
   ]
  },
  {
   "cell_type": "code",
   "execution_count": 77,
   "id": "5c0a429d",
   "metadata": {},
   "outputs": [
    {
     "name": "stdout",
     "output_type": "stream",
     "text": [
      "Кількість пропусків після заміни:\n",
      "rank                                         0\n",
      "youtuber                                     0\n",
      "subscribers                                  0\n",
      "video_views                                  0\n",
      "category                                    46\n",
      "title                                        0\n",
      "uploads                                      0\n",
      "country                                    122\n",
      "abbreviation                               122\n",
      "channel_type                                30\n",
      "video_views_rank                             0\n",
      "country_rank                                 0\n",
      "channel_type_rank                            0\n",
      "video_views_for_the_last_30_days             0\n",
      "lowest_monthly_earnings                      0\n",
      "highest_monthly_earnings                     0\n",
      "lowest_yearly_earnings                       0\n",
      "highest_yearly_earnings                      0\n",
      "subscribers_for_last_30_days                 0\n",
      "created_year                                 0\n",
      "created_month                                5\n",
      "created_date                                 0\n",
      "gross_tertiary_education_enrollment_(%)      0\n",
      "population                                   0\n",
      "unemployment_rate                            0\n",
      "urban_population                             0\n",
      "latitude                                     0\n",
      "longitude                                    0\n",
      "dtype: int64\n"
     ]
    }
   ],
   "source": [
    "# Завдання 6: Перевірте кількість пропусків ще раз\n",
    "print(\"Кількість пропусків після заміни:\")\n",
    "print(data.isna().sum())"
   ]
  },
  {
   "cell_type": "code",
   "execution_count": 79,
   "id": "043a04e9",
   "metadata": {},
   "outputs": [
    {
     "data": {
      "text/plain": [
       "rank                                       0\n",
       "youtuber                                   0\n",
       "subscribers                                0\n",
       "video_views                                0\n",
       "category                                   0\n",
       "title                                      0\n",
       "uploads                                    0\n",
       "country                                    0\n",
       "abbreviation                               0\n",
       "channel_type                               0\n",
       "video_views_rank                           0\n",
       "country_rank                               0\n",
       "channel_type_rank                          0\n",
       "video_views_for_the_last_30_days           0\n",
       "lowest_monthly_earnings                    0\n",
       "highest_monthly_earnings                   0\n",
       "lowest_yearly_earnings                     0\n",
       "highest_yearly_earnings                    0\n",
       "subscribers_for_last_30_days               0\n",
       "created_year                               0\n",
       "created_month                              0\n",
       "created_date                               0\n",
       "gross_tertiary_education_enrollment_(%)    0\n",
       "population                                 0\n",
       "unemployment_rate                          0\n",
       "urban_population                           0\n",
       "latitude                                   0\n",
       "longitude                                  0\n",
       "dtype: int64"
      ]
     },
     "execution_count": 79,
     "metadata": {},
     "output_type": "execute_result"
    }
   ],
   "source": [
    "#замінимо пропущені значення в текстових стовпцях на найбільш поширене значення\n",
    "data['category'] = data['category'].fillna(data['category'].mode()[0])\n",
    "data['created_month'] = data['created_month'].fillna(data['created_month'].mode()[0])\n",
    "data['country'] = data['country'].fillna(data['country'].mode()[0])\n",
    "data['abbreviation'] = data['abbreviation'].fillna(data['abbreviation'].mode()[0])\n",
    "data['channel_type'] = data['channel_type'].fillna(data['channel_type'].mode()[0])\n",
    "\n",
    "\n",
    "#перевіримо знову суму пропущених значень в колонках\n",
    "df.isna().sum()"
   ]
  },
  {
   "cell_type": "code",
   "execution_count": 80,
   "id": "0b2cf508",
   "metadata": {},
   "outputs": [
    {
     "data": {
      "text/plain": [
       "0    Music\n",
       "Name: channel_type, dtype: object"
      ]
     },
     "execution_count": 80,
     "metadata": {},
     "output_type": "execute_result"
    }
   ],
   "source": [
    "data.channel_type.loc[:0]"
   ]
  },
  {
   "cell_type": "code",
   "execution_count": 81,
   "id": "4868cd69",
   "metadata": {},
   "outputs": [
    {
     "data": {
      "text/plain": [
       "array(['India', 'United States', 'Japan', 'Russia', 'South Korea',\n",
       "       'United Kingdom', 'Canada', 'Brazil', 'Argentina', 'Chile', 'Cuba',\n",
       "       'El Salvador', 'Pakistan', 'Philippines', 'Thailand', 'Colombia',\n",
       "       'Barbados', 'Mexico', 'United Arab Emirates', 'Spain',\n",
       "       'Saudi Arabia', 'Indonesia', 'Turkey', 'Venezuela', 'Kuwait',\n",
       "       'Jordan', 'Netherlands', 'Singapore', 'Australia', 'Italy',\n",
       "       'Germany', 'France', 'Sweden', 'Afghanistan', 'Ukraine', 'Latvia',\n",
       "       'Switzerland', 'Vietnam', 'Malaysia', 'China', 'Iraq', 'Egypt',\n",
       "       'Andorra', 'Ecuador', 'Morocco', 'Peru', 'Bangladesh', 'Finland',\n",
       "       'Samoa'], dtype=object)"
      ]
     },
     "execution_count": 81,
     "metadata": {},
     "output_type": "execute_result"
    }
   ],
   "source": [
    "#Завдання 7: Перевірте, скільки унікальних країн представлено у колонці \"Country\"\n",
    "\n",
    "data.country.unique()"
   ]
  },
  {
   "cell_type": "code",
   "execution_count": 82,
   "id": "9d143797",
   "metadata": {},
   "outputs": [
    {
     "data": {
      "image/png": "[encoded data removed]",
      "text/plain": [
       "<Figure size 1100x500 with 1 Axes>"
      ]
     },
     "metadata": {},
     "output_type": "display_data"
    }
   ],
   "source": [
    "#завдання 8: Побудуйте діаграму розподілу переглядів (використовуйте kind='hist')\n",
    "\n",
    "plt.figure(figsize=(11, 5))\n",
    "\n",
    "data['video_views'].plot(kind='hist', bins=30, edgecolor='black')\n",
    "\n",
    "plt.title('View distribution')\n",
    "plt.xlabel('number of views')\n",
    "plt.ylabel('number of channel')\n",
    "plt.show()\n"
   ]
  },
  {
   "cell_type": "code",
   "execution_count": 88,
   "id": "b62d2812",
   "metadata": {},
   "outputs": [
    {
     "name": "stdout",
     "output_type": "stream",
     "text": [
      "Maximum number of views: 228000000000.00\n",
      "Minimum number of views: 0.00\n",
      "Average number of views: 11039537052.04\n"
     ]
    }
   ],
   "source": [
    "# Завдання 9:Визначте максимальну, мінімальну, середню кількість переглядів\n",
    "max_views = data['video_views'].max()\n",
    "print(f\"Maximum number of views: {max_views:.2f}\")\n",
    "min_views = data['video_views'].min()\n",
    "print(f\"Minimum number of views: {min_views:.2f}\")\n",
    "average_views = data['video_views'].mean()\n",
    "print(f\"Average number of views: {average_views:.2f}\")"
   ]
  },
  {
   "cell_type": "code",
   "execution_count": 89,
   "id": "11ff6d20",
   "metadata": {},
   "outputs": [
    {
     "data": {
      "text/plain": [
       "rank                                                 96.0\n",
       "youtuber                                         ABP NEWS\n",
       "subscribers                                    37000000.0\n",
       "video_views                                 13102611515.0\n",
       "category                                   People & Blogs\n",
       "title                                            ABP NEWS\n",
       "uploads                                          301308.0\n",
       "country                                             India\n",
       "abbreviation                                           IN\n",
       "channel_type                                         News\n",
       "video_views_rank                                    280.0\n",
       "country_rank                                         25.0\n",
       "channel_type_rank                                     2.0\n",
       "video_views_for_the_last_30_days              267060000.0\n",
       "lowest_monthly_earnings                           66800.0\n",
       "highest_monthly_earnings                        1100000.0\n",
       "lowest_yearly_earnings                           801200.0\n",
       "highest_yearly_earnings                        12800000.0\n",
       "subscribers_for_last_30_days                     400000.0\n",
       "created_year                                       2012.0\n",
       "created_month                                         Jun\n",
       "created_date                                          1.0\n",
       "gross_tertiary_education_enrollment_(%)              28.1\n",
       "population                                   1366417754.0\n",
       "unemployment_rate                                    5.36\n",
       "urban_population                              471031528.0\n",
       "latitude                                        20.593684\n",
       "longitude                                        78.96288\n",
       "Name: 95, dtype: object"
      ]
     },
     "metadata": {},
     "output_type": "display_data"
    },
    {
     "name": "stdout",
     "output_type": "stream",
     "text": [
      "Country with the most downloads: India\n"
     ]
    }
   ],
   "source": [
    "#Завдання 10: Знайдіть країну, де найбільше відео було завантажено на YouTube\n",
    "\n",
    "display(df.loc[data['uploads'].idxmax()])\n",
    "\n",
    "# Країна з найбільшою кількістю завантажень\n",
    "\n",
    "country_with_most_uploads = data.loc[data['uploads'].idxmax()]['country']\n",
    "print(f\"Country with the most downloads: {country_with_most_uploads}\")"
   ]
  },
  {
   "cell_type": "code",
   "execution_count": 90,
   "id": "84d2e265",
   "metadata": {},
   "outputs": [
    {
     "name": "stdout",
     "output_type": "stream",
     "text": [
      "The video with the most downloads: ABP NEWS\n",
      "The video with the fewest downloads: Music\n"
     ]
    }
   ],
   "source": [
    "#Завдання 11\n",
    "video_max_uploads = data.loc[df['uploads'].idxmax()]['title']\n",
    "video_min_uploads = data.loc[df['uploads'].idxmin()]['title']\n",
    "print(f'The video with the most downloads: {video_max_uploads}')\n",
    "print(f'The video with the fewest downloads: {video_min_uploads}')"
   ]
  },
  {
   "cell_type": "code",
   "execution_count": null,
   "id": "4bf0dbe4-1ae3-46cd-b1d9-e4b4248befee",
   "metadata": {},
   "outputs": [],
   "source": []
  }
 ],
 "metadata": {
  "kernelspec": {
   "display_name": "Python 3 (ipykernel)",
   "language": "python",
   "name": "python3"
  },
  "language_info": {
   "codemirror_mode": {
    "name": "ipython",
    "version": 3
   },
   "file_extension": ".py",
   "mimetype": "text/x-python",
   "name": "python",
   "nbconvert_exporter": "python",
   "pygments_lexer": "ipython3",
   "version": "3.9.13"
  }
 },
 "nbformat": 4,
 "nbformat_minor": 5
}
